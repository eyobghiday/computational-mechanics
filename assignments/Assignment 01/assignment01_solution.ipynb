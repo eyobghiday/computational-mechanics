{
 "cells": [
  {
   "cell_type": "code",
   "execution_count": 1,
   "metadata": {},
   "outputs": [],
   "source": [
    "from sympy.interactive import printing\n",
    "printing.init_printing(use_latex = True)\n",
    "import numpy as np\n",
    "import scipy as sc\n",
    "import sympy as sp\n",
    "import matplotlib as mp\n",
    "import matplotlib.pyplot as plt\n",
    "from numpy.linalg import norm\n",
    "from mpl_toolkits.mplot3d import axes3d"
   ]
  },
  {
   "cell_type": "markdown",
   "metadata": {},
   "source": [
    "$PROBLEM$ $1$"
   ]
  },
  {
   "cell_type": "code",
   "execution_count": 2,
   "metadata": {},
   "outputs": [],
   "source": [
    "A=np.array([2,-3,7])\n",
    "B=np.array([-4,1,0])\n",
    "C=np.array([5,-1,9])\n",
    "D=np.array([0,0,2])"
   ]
  },
  {
   "cell_type": "code",
   "execution_count": 3,
   "metadata": {},
   "outputs": [
    {
     "name": "stdout",
     "output_type": "stream",
     "text": [
      "Part A\n"
     ]
    }
   ],
   "source": [
    "print(\"Part A\")"
   ]
  },
  {
   "cell_type": "code",
   "execution_count": 4,
   "metadata": {},
   "outputs": [
    {
     "name": "stdout",
     "output_type": "stream",
     "text": [
      "-11 is the dot product of A and B\n",
      "18 is the dot product of C and D\n"
     ]
    }
   ],
   "source": [
    "print(np.dot(A,B), \"is the dot product of A and B\")\n",
    "print(np.dot(C,D), \"is the dot product of C and D\")\n"
   ]
  },
  {
   "cell_type": "code",
   "execution_count": 5,
   "metadata": {},
   "outputs": [
    {
     "name": "stdout",
     "output_type": "stream",
     "text": [
      "\n",
      "\n",
      "\n",
      "\n",
      "Part B \n"
     ]
    }
   ],
   "source": [
    "print(\"\\n\\n\\n\\nPart B \")"
   ]
  },
  {
   "cell_type": "code",
   "execution_count": 6,
   "metadata": {},
   "outputs": [
    {
     "name": "stdout",
     "output_type": "stream",
     "text": [
      "[ -7 -28 -10] is the resultant vector of A cross B\n",
      "30.54504869860253 is the magnitude of A cross B\n",
      "1.339571719189226 0.41110738580715916 1.2372612783481713\n"
     ]
    }
   ],
   "source": [
    "R=np.cross(A,B)\n",
    "print(R, \"is the resultant vector of A cross B\")\n",
    "print(norm(R),\"is the magnitude of A cross B\")\n",
    "i=np.array([-7/norm(R),0,0])\n",
    "j=np.array([0,-28/norm(R),0])\n",
    "k=np.array([0,0,-10/norm(R)])\n",
    "x=np.arccos(np.dot(R,i)/(norm(R)*norm(i)))\n",
    "y=np.arccos(np.dot(R,j)/(norm(R)*norm(j)))\n",
    "z=np.arccos(np.dot(R,k)/(norm(R)*norm(k)))\n",
    "print(x,y,z)\n",
    "# print(np.degrees(x),\"degrees angle with x-axis\")\n",
    "# print(np.degrees(y),\"degress angle with y-axis\")\n",
    "# print(np.degrees(z),\"degrees angle with z-axis\")"
   ]
  },
  {
   "cell_type": "code",
   "execution_count": 7,
   "metadata": {},
   "outputs": [
    {
     "name": "stdout",
     "output_type": "stream",
     "text": [
      "\n",
      "\n",
      "\n",
      "Part C\n",
      "\n",
      "[0.24253563 0.9701425  0.        ] is the Unit Vector along BxD\n"
     ]
    }
   ],
   "source": [
    "print(\"\\n\\n\\nPart C\\n\")\n",
    "V=np.cross(B,D)\n",
    "U=np.array([2/norm(V),8/norm(V),0/norm(V)])\n",
    "print(U, \"is the Unit Vector along BxD\")"
   ]
  },
  {
   "cell_type": "code",
   "execution_count": 8,
   "metadata": {},
   "outputs": [
    {
     "name": "stdout",
     "output_type": "stream",
     "text": [
      "\n",
      "\n",
      "\n",
      "\n",
      "Part D\n",
      "\n"
     ]
    }
   ],
   "source": [
    "print(\"\\n\\n\\n\\nPart D\\n\")"
   ]
  },
  {
   "cell_type": "code",
   "execution_count": 9,
   "metadata": {},
   "outputs": [
    {
     "name": "stdout",
     "output_type": "stream",
     "text": [
      "7.874007874011811\n",
      "4.123105625617661\n",
      "10.344080432788601\n",
      "2.0\n",
      "The vector with the largest magnitude is C \n",
      "\n"
     ]
    }
   ],
   "source": [
    "a=print(norm(A))\n",
    "d=print(norm(B))\n",
    "c=print(norm(C))\n",
    "d=print(norm(D))\n",
    "print (\"The vector with the largest magnitude is C \\n\")"
   ]
  },
  {
   "cell_type": "code",
   "execution_count": 10,
   "metadata": {},
   "outputs": [
    {
     "name": "stdout",
     "output_type": "stream",
     "text": [
      "\n",
      "\n",
      "\n",
      "\n",
      "QUESTION 2 \n",
      "\n"
     ]
    }
   ],
   "source": [
    "print(\"\\n\\n\\n\\nQUESTION 2 \\n\")"
   ]
  },
  {
   "cell_type": "code",
   "execution_count": 11,
   "metadata": {},
   "outputs": [
    {
     "name": "stdout",
     "output_type": "stream",
     "text": [
      "\n",
      "\n",
      "\n",
      "\n",
      "Part A\n",
      "\n"
     ]
    }
   ],
   "source": [
    "print(\"\\n\\n\\n\\nPart A\\n\")"
   ]
  },
  {
   "cell_type": "code",
   "execution_count": 12,
   "metadata": {},
   "outputs": [
    {
     "name": "stdout",
     "output_type": "stream",
     "text": [
      "[[1 0 2]\n",
      " [2 1 3]\n",
      " [1 3 1]\n",
      " [4 1 0]] \n",
      "\n",
      "[[2 0 1 2]\n",
      " [1 2 1 3]\n",
      " [5 3 1 4]] \n",
      "\n",
      "[[12  6  3 10]\n",
      " [20 11  6 19]\n",
      " [10  9  5 15]\n",
      " [ 9  2  5 11]]\n"
     ]
    }
   ],
   "source": [
    "a=np.array([[1,0,2],[2,1,3],[1,3,1],[4,1,0,]])\n",
    "b=np.array([[2,0,1,2],[1,2,1,3],[5,3,1,4]])\n",
    "print(a,\"\\n\")\n",
    "print(b,\"\\n\")\n",
    "print(a@b)"
   ]
  },
  {
   "cell_type": "code",
   "execution_count": 13,
   "metadata": {},
   "outputs": [
    {
     "name": "stdout",
     "output_type": "stream",
     "text": [
      "\n",
      "\n",
      "\n",
      "\n",
      "Part B\n",
      "\n",
      "Yes it possible to do the multiplication of a.aT because a transpose is just change of rows and columns wich is vali to results.\n",
      "\n",
      "Here is the result of aaT\n",
      "\n",
      "[[ 5  8  3  4]\n",
      " [ 8 14  8  9]\n",
      " [ 3  8 11  7]\n",
      " [ 4  9  7 17]]\n"
     ]
    }
   ],
   "source": [
    "print(\"\\n\\n\\n\\nPart B\\n\")\n",
    "print(\"Yes it possible to do the multiplication of a.aT because a transpose is just change of rows and columns wich is vali to results.\\n\")\n",
    "print(\"Here is the result of aaT\\n\")\n",
    "V=a@a.T\n",
    "print(V)"
   ]
  },
  {
   "cell_type": "code",
   "execution_count": 14,
   "metadata": {},
   "outputs": [
    {
     "name": "stdout",
     "output_type": "stream",
     "text": [
      "\n",
      "\n",
      "\n",
      "\n",
      "Part C\n",
      "\n",
      "[[12 20 10  9]\n",
      " [ 6 11  9  2]\n",
      " [ 3  6  5  5]\n",
      " [10 19 15 11]] \n",
      "\n",
      "[[12 20 10  9]\n",
      " [ 6 11  9  2]\n",
      " [ 3  6  5  5]\n",
      " [10 19 15 11]] \n",
      "\n",
      " Thus we can see that (ab)T=bT@aT are equal\n"
     ]
    }
   ],
   "source": [
    "print(\"\\n\\n\\n\\nPart C\\n\")\n",
    "U=(a@b).T\n",
    "W=(b.T)@(a.T)\n",
    "print(U,\"\\n\")\n",
    "print(W,\"\\n\\n Thus we can see that (ab)T=bT@aT are equal\")\n"
   ]
  },
  {
   "cell_type": "code",
   "execution_count": 15,
   "metadata": {},
   "outputs": [
    {
     "name": "stdout",
     "output_type": "stream",
     "text": [
      "\n",
      "\n",
      "\n",
      "\n",
      "Part D\n",
      "\n",
      "[[ 0.66666667 -0.6         0.2       ]\n",
      " [ 0.33333333 -0.7         0.4       ]\n",
      " [-2.33333333  2.4        -0.8       ]] \n",
      "\n",
      "[[ 0.66666667 -0.6         0.2       ]\n",
      " [ 0.33333333 -0.7         0.4       ]\n",
      " [-2.33333333  2.4        -0.8       ]]\n"
     ]
    }
   ],
   "source": [
    "print(\"\\n\\n\\n\\nPart D\\n\")\n",
    "c=np.array([[1,0,2],[2,1,3],[1,3,4]])\n",
    "d=np.array([[2,0,1],[1,2,1],[5,0,1]])\n",
    "V=np.linalg.inv(c@d)\n",
    "W=np.linalg.inv(d)@np.linalg.inv(c)\n",
    "print(W,\"\\n\")\n",
    "print(V)\n"
   ]
  },
  {
   "cell_type": "code",
   "execution_count": 16,
   "metadata": {},
   "outputs": [
    {
     "name": "stdout",
     "output_type": "stream",
     "text": [
      "\n",
      "\n",
      "\n",
      "\n",
      "part E\n",
      "\n",
      "[[-1.  -1.   1. ]\n",
      " [ 1.2  0.4 -0.6]\n",
      " [-0.4  0.2  0.2]]\n",
      "\n",
      "\n",
      "[[-1.  -1.   1. ]\n",
      " [ 1.2  0.4 -0.6]\n",
      " [-0.4  0.2  0.2]]\n"
     ]
    }
   ],
   "source": [
    "print(\"\\n\\n\\n\\npart E\\n\")\n",
    "print(np.linalg.inv(c).T)\n",
    "print(\"\\n\")\n",
    "print(np.linalg.inv(c.T))\n"
   ]
  },
  {
   "cell_type": "code",
   "execution_count": 17,
   "metadata": {},
   "outputs": [
    {
     "name": "stdout",
     "output_type": "stream",
     "text": [
      "\n",
      "\n",
      "\n",
      "\n",
      "\n",
      "QUESTION 3 \n",
      "\n",
      "2x1 + 0.7x2 - 3.5x3 + 7x4 - 0.5x5 = 2 \n",
      "\n",
      "-1.2x1 + 2.7x2 + 0x3 - 3x4 - 2.5x5 = -17 \n",
      "\n",
      "x1 + x2 - x3 - x4 + x5 = 5 \n",
      "\n",
      "2.9x1 + 0x2 + 0x3 + 0x4 + 7.5x5 = 0 \n",
      "\n",
      "0x1 + 0x2 + 0x3 - 2.7x4 - 5.5x5 = -11 \n",
      "\n"
     ]
    }
   ],
   "source": [
    "print(\"\\n\\n\\n\\n\\nQUESTION 3 \\n\")\n",
    "print(\"2x1 + 0.7x2 - 3.5x3 + 7x4 - 0.5x5 = 2 \\n\")\n",
    "print(\"-1.2x1 + 2.7x2 + 0x3 - 3x4 - 2.5x5 = -17 \\n\")\n",
    "print(\"x1 + x2 - x3 - x4 + x5 = 5 \\n\")\n",
    "print(\"2.9x1 + 0x2 + 0x3 + 0x4 + 7.5x5 = 0 \\n\")\n",
    "print(\"0x1 + 0x2 + 0x3 - 2.7x4 - 5.5x5 = -11 \\n\")"
   ]
  },
  {
   "cell_type": "code",
   "execution_count": 18,
   "metadata": {},
   "outputs": [
    {
     "name": "stdout",
     "output_type": "stream",
     "text": [
      "[[ 2.   0.7 -3.5  7.  -0.5]\n",
      " [-1.2  2.7  0.  -3.  -2.5]\n",
      " [ 1.   1.  -1.  -1.   1. ]\n",
      " [ 2.9  0.   0.   0.   7.5]\n",
      " [ 0.   0.   1.8 -2.7 -5.5]] \n",
      "\n",
      "[[  2]\n",
      " [-17]\n",
      " [  5]\n",
      " [  0]\n",
      " [-11]] \n",
      "\n",
      "[[ -0.56501824]\n",
      " [-11.34361865]\n",
      " [-12.19151891]\n",
      " [ -4.49864426]\n",
      " [  0.21847372]] \n",
      "\n",
      "Values are x1=-0.56, x2-11.34, x3=-12.19, x4=-4.49, x5=0.21\n"
     ]
    }
   ],
   "source": [
    "E=np.array([[2,0.7,-3.5,7,-0.5],[-1.2,2.7,0,-3,-2.5],[1,1,-1,-1,1],[2.9,0,0,0,7.5],[0,0,1.8,-2.7,-5.5]])\n",
    "G=np.array([[2,-17,5,0,-11]]).T\n",
    "H=np.linalg.inv(E)@G\n",
    "print(E,\"\\n\")\n",
    "print(G,\"\\n\")\n",
    "print(H,\"\\n\")\n",
    "print(\"Values are x1=-0.56, x2-11.34, x3=-12.19, x4=-4.49, x5=0.21\")\n"
   ]
  },
  {
   "cell_type": "code",
   "execution_count": 19,
   "metadata": {
    "scrolled": true
   },
   "outputs": [
    {
     "name": "stdout",
     "output_type": "stream",
     "text": [
      "Check Calculation of RHS with the LHS\n",
      "\n",
      "2.0620000000000016  == 2 \n",
      "\n",
      "-16.994999999999997  == -17 \n",
      "\n",
      "4.985  == 5 \n",
      "\n",
      "-0.06349999999999989  == 0 \n",
      "\n",
      "-10.973999999999998  == -11 \n",
      "\n"
     ]
    }
   ],
   "source": [
    "print (\"Check Calculation of RHS with the LHS\\n\")\n",
    "print(2*-0.565 + 0.7*-11.34 - 3.5*-12.19 + 7*-4.49 - 0.5*0.21, \" == 2 \\n\")\n",
    "print(-1.2*-0.565 + 2.7*-11.34 - 0*-12.19 + -3*-4.49 - 2.5*0.21, \" == -17 \\n\")\n",
    "print(1*-0.565 + 1*-11.34 - 1*-12.19 - 1*-4.49 + 1*0.21, \" == 5 \\n\")\n",
    "print(2.9*-0.565 + 7.5*0.21, \" == 0 \\n\")\n",
    "print(1.8*-12.19 + -2.7*-4.49 - 5.5*0.21, \" == -11 \\n\")"
   ]
  }
 ],
 "metadata": {
  "kernelspec": {
   "display_name": "Python 3",
   "language": "python",
   "name": "python3"
  },
  "language_info": {
   "codemirror_mode": {
    "name": "ipython",
    "version": 3
   },
   "file_extension": ".py",
   "mimetype": "text/x-python",
   "name": "python",
   "nbconvert_exporter": "python",
   "pygments_lexer": "ipython3",
   "version": "3.8.3"
  }
 },
 "nbformat": 4,
 "nbformat_minor": 4
}
