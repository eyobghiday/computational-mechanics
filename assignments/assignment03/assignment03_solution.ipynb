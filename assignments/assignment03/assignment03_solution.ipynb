{
 "cells": [
  {
   "cell_type": "code",
   "execution_count": null,
   "metadata": {},
   "outputs": [],
   "source": [
    "import numpy as np \n",
    "import sympy as sp\n",
    "import scipy as sc\n",
    "from scipy.optimize import fsolve\n",
    "from numpy import linalg as la"
   ]
  },
  {
   "cell_type": "markdown",
   "metadata": {},
   "source": [
    "$PROBLEM$ $1$"
   ]
  },
  {
   "cell_type": "markdown",
   "metadata": {},
   "source": [
    "$Part$ $A$"
   ]
  },
  {
   "cell_type": "code",
   "execution_count": 7,
   "metadata": {
    "scrolled": false
   },
   "outputs": [
    {
     "name": "stdout",
     "output_type": "stream",
     "text": [
      "[[ 2  5 -3]\n",
      " [ 5  7  1]\n",
      " [-3  1  4]]\n",
      "\n",
      "Since it's 3x3 Matrix we have 3 degree characterstic polynomial\n"
     ]
    },
    {
     "ename": "NameError",
     "evalue": "name 'Eq' is not defined",
     "output_type": "error",
     "traceback": [
      "\u001b[1;31m---------------------------------------------------------------------------\u001b[0m",
      "\u001b[1;31mNameError\u001b[0m                                 Traceback (most recent call last)",
      "\u001b[1;32m<ipython-input-7-763f0608a915>\u001b[0m in \u001b[0;36m<module>\u001b[1;34m\u001b[0m\n\u001b[0;32m      3\u001b[0m \u001b[0mprint\u001b[0m\u001b[1;33m(\u001b[0m\u001b[1;34m\"\\nSince it's 3x3 Matrix we have 3 degree characterstic polynomial\"\u001b[0m\u001b[1;33m)\u001b[0m\u001b[1;33m\u001b[0m\u001b[1;33m\u001b[0m\u001b[0m\n\u001b[0;32m      4\u001b[0m \u001b[0mλ\u001b[0m \u001b[1;33m=\u001b[0m \u001b[0msp\u001b[0m\u001b[1;33m.\u001b[0m\u001b[0msymbols\u001b[0m\u001b[1;33m(\u001b[0m\u001b[1;34m'λ'\u001b[0m\u001b[1;33m)\u001b[0m\u001b[1;33m\u001b[0m\u001b[1;33m\u001b[0m\u001b[0m\n\u001b[1;32m----> 5\u001b[1;33m \u001b[0mdisplay\u001b[0m\u001b[1;33m(\u001b[0m\u001b[0mEq\u001b[0m\u001b[1;33m(\u001b[0m\u001b[1;33m-\u001b[0m\u001b[0mλ\u001b[0m\u001b[1;33m**\u001b[0m\u001b[1;36m3\u001b[0m\u001b[1;33m+\u001b[0m\u001b[1;36m13\u001b[0m\u001b[1;33m*\u001b[0m\u001b[0mλ\u001b[0m\u001b[1;33m**\u001b[0m\u001b[1;36m2\u001b[0m\u001b[1;33m-\u001b[0m\u001b[1;36m15\u001b[0m\u001b[1;33m*\u001b[0m\u001b[0mλ\u001b[0m\u001b[1;33m-\u001b[0m\u001b[1;36m139\u001b[0m\u001b[1;33m,\u001b[0m\u001b[1;36m0\u001b[0m\u001b[1;33m)\u001b[0m\u001b[1;33m)\u001b[0m\u001b[1;33m\u001b[0m\u001b[1;33m\u001b[0m\u001b[0m\n\u001b[0m",
      "\u001b[1;31mNameError\u001b[0m: name 'Eq' is not defined"
     ]
    }
   ],
   "source": [
    "A = np.array([[2,5,-3],[5,7,1], [-3,1,4]])\n",
    "print(A)\n",
    "print(\"\\nSince it's 3x3 Matrix we have 3 degree characterstic polynomial\")\n",
    "λ = sp.symbols('λ')\n",
    "display(Eq(-λ**3+13*λ**2-15*λ-139,0))"
   ]
  },
  {
   "cell_type": "markdown",
   "metadata": {},
   "source": [
    "$Part$ $B$"
   ]
  },
  {
   "cell_type": "code",
   "execution_count": null,
   "metadata": {},
   "outputs": [],
   "source": [
    "#Let's define the obove characterstic polynomial and compute it\n",
    "def func(λ):\n",
    "    return -λ**3+13*λ**2-15*λ-139\n",
    "\n",
    "λ1=fsolve(func,1)\n",
    "print(\"λ1 =\",λ1)\n",
    "λ2=fsolve(func,10)\n",
    "print(\"λ2 =\",λ2)\n",
    "λ3=fsolve(func,5)\n",
    "print(\"λ3 =\",λ3)\n"
   ]
  },
  {
   "cell_type": "markdown",
   "metadata": {},
   "source": [
    "$Part$ $C$"
   ]
  },
  {
   "cell_type": "code",
   "execution_count": null,
   "metadata": {},
   "outputs": [],
   "source": [
    "eigVal,eigVect=la.eig(A)\n",
    "print(\"Eigen Values\\n\",eigVal)\n",
    "print(\"\\nEigenvectors\\n\",eigVect)"
   ]
  },
  {
   "cell_type": "markdown",
   "metadata": {},
   "source": [
    "$Part$ $D$"
   ]
  },
  {
   "cell_type": "code",
   "execution_count": null,
   "metadata": {},
   "outputs": [],
   "source": [
    "#for a Matrix to be orthogonal Q^T=Q^-1\n",
    "Q=eigVect\n",
    "print(Q.T,\"\\n\")\n",
    "print(np.linalg.inv(Q))\n",
    "print(\"\\n Thus the EigenVectors are Orthogonal\")"
   ]
  },
  {
   "cell_type": "markdown",
   "metadata": {},
   "source": [
    "$PROBLEM$ $2$"
   ]
  },
  {
   "cell_type": "markdown",
   "metadata": {},
   "source": [
    "$Part$ $A$"
   ]
  },
  {
   "cell_type": "code",
   "execution_count": 4,
   "metadata": {
    "scrolled": true
   },
   "outputs": [
    {
     "name": "stdout",
     "output_type": "stream",
     "text": [
      "\n",
      "Eigenvalues by QR factorization\n",
      "\n",
      "[[105.  -6.   0.  -0.  -0.]\n",
      " [ -6. -91.   0.   0.   0.]\n",
      " [  0.   0. -24.   0.  -0.]\n",
      " [ -0.   0.   0.  18.  -0.]\n",
      " [  0.  -0.  -0.  -0.   5.]]\n"
     ]
    }
   ],
   "source": [
    "M=np.array([[-1,8,2,10,45],[8,6,-11,-23,85],[2,-11,4,-3,-7],[10,-23,-3,2,2],[45,85,-7,2,2]])\n",
    "for i in range(25):\n",
    " q,r=la.qr(M)\n",
    " M=r@q\n",
    " \n",
    "print(\"\\nEigenvalues by QR factorization\\n\")\n",
    "print(np.rint(M))"
   ]
  },
  {
   "cell_type": "markdown",
   "metadata": {},
   "source": [
    "$Part$ $B$"
   ]
  },
  {
   "cell_type": "code",
   "execution_count": 6,
   "metadata": {},
   "outputs": [
    {
     "name": "stdout",
     "output_type": "stream",
     "text": [
      "Eigen Values\n",
      " [104.99  -91.557 -23.637  18.211   4.993]\n",
      "\n",
      "Eigenvectors\n",
      " [[-1.   -0.03 -0.    0.    0.  ]\n",
      " [ 0.03 -1.   -0.    0.    0.  ]\n",
      " [-0.    0.   -1.    0.   -0.  ]\n",
      " [ 0.   -0.    0.    1.    0.  ]\n",
      " [-0.    0.   -0.   -0.    1.  ]]\n"
     ]
    }
   ],
   "source": [
    "eigVal,eigVect=la.eig(M)\n",
    "print(\"Eigen Values\\n\",np.around(eigVal,3))\n",
    "print(\"\\nEigenvectors\\n\",np.around(eigVect,2))\n"
   ]
  },
  {
   "cell_type": "markdown",
   "metadata": {},
   "source": [
    "$Part$ $C$"
   ]
  },
  {
   "cell_type": "code",
   "execution_count": 173,
   "metadata": {},
   "outputs": [
    {
     "name": "stdout",
     "output_type": "stream",
     "text": [
      "12.999999999999865\n",
      "12.999999999999819\n"
     ]
    }
   ],
   "source": [
    "print(np.trace(M))\n",
    "print(sum(eigVal))"
   ]
  },
  {
   "cell_type": "markdown",
   "metadata": {},
   "source": [
    "$Part$ $D$"
   ]
  },
  {
   "cell_type": "code",
   "execution_count": 176,
   "metadata": {},
   "outputs": [
    {
     "name": "stdout",
     "output_type": "stream",
     "text": [
      "20660378.000000045\n",
      "20660378.00000005\n"
     ]
    }
   ],
   "source": [
    "print(la.det(M))\n",
    "print(np.prod(eigVal))"
   ]
  },
  {
   "cell_type": "markdown",
   "metadata": {},
   "source": [
    "$PROBLEM$ $3$"
   ]
  },
  {
   "cell_type": "markdown",
   "metadata": {},
   "source": [
    "$Part$ $A$"
   ]
  },
  {
   "cell_type": "markdown",
   "metadata": {},
   "source": [
    "Rewriting the Matrix as Eigen Problem\n",
    "\n",
    "\\begin{pmatrix}\n",
    "\\frac{k}{m_{1}}-w^{2} & -\\frac{k}{m_{1}} & 0\\\\ \n",
    " -\\frac{k}{m_{2}}& \\frac{2k}{m_{2}}-w^{2} & -\\frac{k}{m_{2}} \\\\ \n",
    " 0 & -\\frac{k}{m_{1}} & \\frac{k}{m_{1}}-w^{2}\n",
    "\\end{pmatrix}\n"
   ]
  },
  {
   "cell_type": "markdown",
   "metadata": {},
   "source": [
    "$Part$ $B$"
   ]
  },
  {
   "cell_type": "markdown",
   "metadata": {},
   "source": [
    "$Substituting $ the $ values $ of $ k, $ m1, $ m2 $ in $ the $ equation\n",
    "\n",
    "\\begin{pmatrix}\n",
    "3.06*10^{28}-\\lambda & -3.06*10^{28} & 0\\\\ \n",
    " -1.20*10^{29} & 2.41*10^{29}-\\lambda & -1.20*10^{29} \\\\ \n",
    " 0 & -3.06*10^{28} & 3.06*10^{28}-\\lambda\n",
    "\\end{pmatrix}\n"
   ]
  },
  {
   "cell_type": "code",
   "execution_count": 339,
   "metadata": {
    "scrolled": true
   },
   "outputs": [
    {
     "name": "stdout",
     "output_type": "stream",
     "text": [
      "[[ 3.06e+28 -3.06e+28  0.00e+00]\n",
      " [-1.20e+29  2.41e+29 -1.20e+29]\n",
      " [ 0.00e+00 -3.06e+28  3.06e+28]]\n",
      "\n",
      "The vibration Frequenices (w^2)1, (w^2)2, (w^2)3 are \n",
      "\n",
      " [2.71487288e+29 3.06000000e+28 1.12712460e+26]\n"
     ]
    }
   ],
   "source": [
    "V=np.array([[3.06*10**28,-3.06*10**28,0],[-1.20*10**29,2.41*10**29,-1.20*10**29],[0,-3.06*10**28,3.06*10**28]])\n",
    "print(V)\n",
    "eigValues,eigVectors=la.eig(V)\n",
    "print(\"\\nThe vibration Frequenices (w^2)1, (w^2)2, (w^2)3 are \\n\\n\",eigValues)"
   ]
  },
  {
   "cell_type": "markdown",
   "metadata": {},
   "source": [
    "$Part$ $C$"
   ]
  },
  {
   "cell_type": "code",
   "execution_count": 340,
   "metadata": {},
   "outputs": [
    {
     "name": "stdout",
     "output_type": "stream",
     "text": [
      "\n",
      "Eigen Vectors\n",
      "\n",
      " [[-1.25028831e-01 -7.07106781e-01  5.78059140e-01]\n",
      " [ 9.84243660e-01 -1.84988936e-17  5.75929909e-01]\n",
      " [-1.25028831e-01  7.07106781e-01  5.78059140e-01]]\n"
     ]
    }
   ],
   "source": [
    "print(\"\\nEigen Vectors\\n\\n\",eigVectors)"
   ]
  },
  {
   "cell_type": "markdown",
   "metadata": {},
   "source": [
    "$PROBLEM$ $4$"
   ]
  },
  {
   "cell_type": "markdown",
   "metadata": {},
   "source": [
    "$Part$ $A$"
   ]
  },
  {
   "cell_type": "code",
   "execution_count": 271,
   "metadata": {},
   "outputs": [
    {
     "name": "stdout",
     "output_type": "stream",
     "text": [
      "\n",
      "Principal Stresses in Mega Pascals are\n",
      "\n",
      " [-12.79567553  31.67988775  33.11578778]\n"
     ]
    }
   ],
   "source": [
    "S=np.array([[20,8,-18],[8,28,12],[-18,12,4]])\n",
    "# print(S)\n",
    "eigVal,eigVect=la.eig(S)\n",
    "print(\"\\nPrincipal Stresses in Mega Pascals are\\n\\n\",eigVal)"
   ]
  },
  {
   "cell_type": "markdown",
   "metadata": {},
   "source": [
    "$Part$ $B$"
   ]
  },
  {
   "cell_type": "code",
   "execution_count": 330,
   "metadata": {},
   "outputs": [
    {
     "name": "stdout",
     "output_type": "stream",
     "text": [
      "Normal Vectors to the Prinipal Plane\n",
      " [[-0.51481828  0.81232573  0.27402382]\n",
      " [ 0.33329183 -0.10484587  0.93697593]\n",
      " [-0.78985992 -0.57370224  0.21676496]]\n",
      "\n",
      "The Maximum principal stress is 33.11 MPa\n",
      "It's Unit Normal to plane is  [0.27402382 0.93697593 0.21676496]\n",
      "\n",
      "X-axis in degrees  74.09615133093509  or radians 1.2932218037807959\n",
      "Y-axis in degrees  20.450248042933367  or radians 0.35692416119871395\n",
      "Z-axis in degrees  77.48090601002706  or radians 1.3522969173032346\n"
     ]
    }
   ],
   "source": [
    "#To find the angles we need the normal(eigenvectors) vectors frist\n",
    "#Also python normalizes the normal vectors automatically\n",
    "#angles are measured from the +ve axis CCW direction.\n",
    "N=eigVect\n",
    "print(\"Normal Vectors to the Prinipal Plane\\n\",N)\n",
    "\n",
    "print(\"\\nThe Maximum principal stress is 33.11 MPa\")\n",
    "print(\"It's Unit Normal to plane is \", N[:,2])\n",
    "\n",
    "print(\"\\nX-axis in degrees \",np.degrees(np.arccos(N[0,2])),\" or radians\",np.arccos(N[0,2]))\n",
    "print(\"Y-axis in degrees \",np.degrees(np.arccos(N[1,2])),\" or radians\",np.arccos(N[1,2]))\n",
    "print(\"Z-axis in degrees \",np.degrees(np.arccos(N[2,2])),\" or radians\",np.arccos(N[2,2]))"
   ]
  },
  {
   "cell_type": "markdown",
   "metadata": {},
   "source": [
    "$Part$ $C$"
   ]
  },
  {
   "cell_type": "code",
   "execution_count": 331,
   "metadata": {},
   "outputs": [
    {
     "name": "stdout",
     "output_type": "stream",
     "text": [
      "Normal Vectors to the Prinipal Plane\n",
      " [[-0.51481828  0.81232573  0.27402382]\n",
      " [ 0.33329183 -0.10484587  0.93697593]\n",
      " [-0.78985992 -0.57370224  0.21676496]]\n",
      "\n",
      "The Minimum principal stress is -12.79 MPa\n",
      "It's Unit Normal to plane is  [-0.51481828  0.33329183 -0.78985992]\n",
      "\n",
      "X-axis in degrees  120.9853092679676  or radians 2.111591993269645\n",
      "Y-axis in degrees  70.53130164099609  or radians 1.2310034393526612\n",
      "Z-axis in degrees  142.17242293287993  or radians 2.4813768857166476\n"
     ]
    }
   ],
   "source": [
    "#similary the Minimum Princial stress is -12.79Mpa\n",
    "#Also python normalizes the normal vectors automatically\n",
    "#angles are measured from the +ve axis CCW direction.\n",
    "N=eigVect\n",
    "print(\"Normal Vectors to the Prinipal Plane\\n\",N)\n",
    "\n",
    "print(\"\\nThe Minimum principal stress is -12.79 MPa\")\n",
    "print(\"It's Unit Normal to plane is \", N[:,0])\n",
    "\n",
    "print(\"\\nX-axis in degrees \",np.degrees(np.arccos(N[0,0])),\" or radians\",np.arccos(N[0,0]))\n",
    "print(\"Y-axis in degrees \",np.degrees(np.arccos(N[1,0])),\" or radians\",np.arccos(N[1,0]))\n",
    "print(\"Z-axis in degrees \",np.degrees(np.arccos(N[2,0])),\" or radians\",np.arccos(N[2,0]))"
   ]
  }
 ],
 "metadata": {
  "kernelspec": {
   "display_name": "Python 3",
   "language": "python",
   "name": "python3"
  },
  "language_info": {
   "codemirror_mode": {
    "name": "ipython",
    "version": 3
   },
   "file_extension": ".py",
   "mimetype": "text/x-python",
   "name": "python",
   "nbconvert_exporter": "python",
   "pygments_lexer": "ipython3",
   "version": "3.8.3"
  }
 },
 "nbformat": 4,
 "nbformat_minor": 4
}
